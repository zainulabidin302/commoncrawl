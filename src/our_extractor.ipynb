{
 "cells": [
  {
   "cell_type": "code",
   "execution_count": 30,
   "id": "a60c5a06-bf3f-483d-b951-9a0c61832d0f",
   "metadata": {},
   "outputs": [],
   "source": [
    "path = '/Users/z.abidin/CC-NEWS-20220228233520-00697.warc.gz'"
   ]
  },
  {
   "cell_type": "code",
   "execution_count": 52,
   "id": "9618afc4-9da9-4511-a923-99d208fe3b20",
   "metadata": {},
   "outputs": [
    {
     "name": "stdout",
     "output_type": "stream",
     "text": [
      "22/12/04 17:30:31 WARN Utils: Your hostname, C02GJ03FML88.local resolves to a loopback address: 127.0.0.1; using 192.168.8.105 instead (on interface en0)\n",
      "22/12/04 17:30:31 WARN Utils: Set SPARK_LOCAL_IP if you need to bind to another address\n"
     ]
    },
    {
     "name": "stderr",
     "output_type": "stream",
     "text": [
      "Setting default log level to \"WARN\".\n",
      "To adjust logging level use sc.setLogLevel(newLevel). For SparkR, use setLogLevel(newLevel).\n"
     ]
    },
    {
     "name": "stdout",
     "output_type": "stream",
     "text": [
      "22/12/04 17:30:31 WARN NativeCodeLoader: Unable to load native-hadoop library for your platform... using builtin-java classes where applicable\n",
      "22/12/04 17:30:32 WARN Utils: Service 'SparkUI' could not bind on port 4040. Attempting port 4041.\n"
     ]
    },
    {
     "name": "stderr",
     "output_type": "stream",
     "text": [
      "Traceback (most recent call last):\n",
      "  File \"/Users/z.abidin/opt/anaconda3/envs/cc-pyspark/lib/python3.10/site-packages/py4j/java_gateway.py\", line 1038, in send_command\n",
      "    response = connection.send_command(command)\n",
      "  File \"/Users/z.abidin/opt/anaconda3/envs/cc-pyspark/lib/python3.10/site-packages/py4j/clientserver.py\", line 511, in send_command\n",
      "    answer = smart_decode(self.stream.readline()[:-1])\n",
      "  File \"/Users/z.abidin/opt/anaconda3/envs/cc-pyspark/lib/python3.10/socket.py\", line 705, in readinto\n",
      "    return self._sock.recv_into(b)\n",
      "KeyboardInterrupt\n",
      "\n",
      "During handling of the above exception, another exception occurred:\n",
      "\n",
      "Traceback (most recent call last):\n",
      "  File \"/Users/z.abidin/opt/anaconda3/envs/cc-pyspark/lib/python3.10/site-packages/pyspark/context.py\", line 197, in __init__\n",
      "    self._do_init(\n",
      "  File \"/Users/z.abidin/opt/anaconda3/envs/cc-pyspark/lib/python3.10/site-packages/pyspark/context.py\", line 349, in _do_init\n",
      "    self._temp_dir = self._jvm.org.apache.spark.util.Utils.createTempDir(\n",
      "  File \"/Users/z.abidin/opt/anaconda3/envs/cc-pyspark/lib/python3.10/site-packages/py4j/java_gateway.py\", line 1709, in __getattr__\n",
      "    answer = self._gateway_client.send_command(\n",
      "  File \"/Users/z.abidin/opt/anaconda3/envs/cc-pyspark/lib/python3.10/site-packages/py4j/java_gateway.py\", line 1066, in send_command\n",
      "    logging.exception(\"KeyboardInterrupt while sending command.\")\n",
      "  File \"/Users/z.abidin/opt/anaconda3/envs/cc-pyspark/lib/python3.10/logging/__init__.py\", line 2113, in exception\n",
      "    error(msg, *args, exc_info=exc_info, **kwargs)\n",
      "  File \"/Users/z.abidin/opt/anaconda3/envs/cc-pyspark/lib/python3.10/logging/__init__.py\", line 2105, in error\n",
      "    root.error(msg, *args, **kwargs)\n",
      "  File \"/Users/z.abidin/opt/anaconda3/envs/cc-pyspark/lib/python3.10/logging/__init__.py\", line 1506, in error\n",
      "    self._log(ERROR, msg, args, **kwargs)\n",
      "  File \"/Users/z.abidin/opt/anaconda3/envs/cc-pyspark/lib/python3.10/logging/__init__.py\", line 1600, in _log\n",
      "    def _log(self, level, msg, args, exc_info=None, extra=None, stack_info=False,\n",
      "KeyboardInterrupt\n",
      "\n",
      "During handling of the above exception, another exception occurred:\n",
      "\n",
      "Traceback (most recent call last):\n",
      "  File \"<stdin>\", line 111, in <module>\n",
      "  File \"/Users/z.abidin/dev/0/commoncrawl/cc-pyspark/sparkcc.py\", line 182, in run\n",
      "    session = builder.getOrCreate()\n",
      "  File \"/Users/z.abidin/opt/anaconda3/envs/cc-pyspark/lib/python3.10/site-packages/pyspark/sql/session.py\", line 269, in getOrCreate\n",
      "    sc = SparkContext.getOrCreate(sparkConf)\n",
      "  File \"/Users/z.abidin/opt/anaconda3/envs/cc-pyspark/lib/python3.10/site-packages/pyspark/context.py\", line 483, in getOrCreate\n",
      "    SparkContext(conf=conf or SparkConf())\n",
      "  File \"/Users/z.abidin/opt/anaconda3/envs/cc-pyspark/lib/python3.10/site-packages/pyspark/context.py\", line 212, in __init__\n",
      "    self.stop()\n",
      "  File \"/Users/z.abidin/opt/anaconda3/envs/cc-pyspark/lib/python3.10/site-packages/pyspark/context.py\", line 558, in stop\n",
      "    self._jsc.stop()\n",
      "  File \"/Users/z.abidin/opt/anaconda3/envs/cc-pyspark/lib/python3.10/site-packages/py4j/java_gateway.py\", line 1321, in __call__\n",
      "    return_value = get_return_value(\n",
      "  File \"/Users/z.abidin/opt/anaconda3/envs/cc-pyspark/lib/python3.10/site-packages/py4j/protocol.py\", line 342, in get_return_value\n",
      "    return OUTPUT_CONVERTER[type](answer[2:], gateway_client)\n",
      "KeyError: 'p'\n",
      "2022-12-04 17:30:33,117 INFO py4j.clientserver: Closing down clientserver connection\n"
     ]
    },
    {
     "name": "stdout",
     "output_type": "stream",
     "text": [
      "Error while terminating subprocess (pid=21374): \n"
     ]
    }
   ],
   "source": [
    "%%python - --input_base_url /Users/z.abidin/dev/0/commoncrawl/cc-pyspark/data/ --num_output_partitions 8 --log_level WARN ./warc.txt output7\n",
    "import ujson as json\n",
    "try:\n",
    "    # Python2\n",
    "    from urlparse import urlparse\n",
    "except ImportError:\n",
    "    # Python3\n",
    "    from urllib.parse import urlparse\n",
    "from pyspark.sql.types import StructType, StructField, StringType, LongType\n",
    "from sparkcc import CCSparkJob\n",
    "from bs4 import BeautifulSoup\n",
    "import shutil\n",
    "import re\n",
    "\n",
    "def extract_generator(x):\n",
    "    try:\n",
    "        meta = x.findAll('meta')\n",
    "        return list(filter(lambda x: x.get('name') == 'generator', meta))[0].get('content')\n",
    "    except Exception as e:\n",
    "        return None\n",
    "    \n",
    "email_tester = re.compile(\"[a-z0-9\\.\\-+_]+@[a-z0-9\\.\\-+_]+\\.[a-z]+\")\n",
    "def extract_all_emails(x):\n",
    "    try:\n",
    "        return '|'.join(set(email_tester.findall(x)))\n",
    "    except Exception as e:\n",
    "        return None\n",
    "\n",
    "with open('contact_keywords.txt', 'r') as f:\n",
    "    contact_kw = f.read().splitlines()\n",
    "\n",
    "def contact_filter_by_kw(x):\n",
    "    for kw in contact_kw:\n",
    "        flag = False\n",
    "        try:\n",
    "            flag = x.get('href').lower().find(kw) >=0\n",
    "        except Exception as e:\n",
    "            return e\n",
    "        if flag: return True\n",
    "        try:\n",
    "            flag = x.text.lower().find(kw) >=0\n",
    "        except Exception as e:\n",
    "            return e\n",
    "        if flag: return True\n",
    "\n",
    "    return flag\n",
    "def extract_ssl_or_not(x):\n",
    "    try:\n",
    "        return urlparse(x).scheme\n",
    "    except Exception as e:\n",
    "        return None\n",
    "    \n",
    "def extract_contact(x):\n",
    "    try:\n",
    "        aa = x.findAll('a')\n",
    "        return '|'.join(set(map(lambda x: x.get('href'), filter(contact_filter_by_kw, aa))))\n",
    "    except Exception as e:\n",
    "        return None\n",
    "\n",
    "def extract_country_lang(x):\n",
    "    try:\n",
    "        lang_country = x.find('html').get('lang')\n",
    "        a = lang_country.split('-')\n",
    "        if len(a) == 2:\n",
    "            lang, country = a\n",
    "        elif len(a) == 1:\n",
    "            lang, country = a[0], None \n",
    "        else:\n",
    "            lang, country = None, None    \n",
    "        return lang, country\n",
    "    except Exception as e:\n",
    "        return None, None\n",
    "    \n",
    "class Job(CCSparkJob):\n",
    "    output_schema = StructType([\n",
    "        StructField('conent_type', StringType(), True),\n",
    "        StructField('record_type', StringType(), True),\n",
    "        StructField('uri', StringType(), True),\n",
    "        StructField('is_secure', StringType(), True),\n",
    "        StructField('language', StringType(), True),\n",
    "        StructField('country', StringType(), True),\n",
    "        StructField('generator', StringType(), True),\n",
    "        StructField('emails', StringType(), True),\n",
    "        StructField('contact', StringType(), True)\n",
    "    ])\n",
    "    \n",
    "    def process_record(self, record):\n",
    "        record_type = record.rec_type\n",
    "        uri = record.rec_headers.get_header('WARC-Target-URI')\n",
    "\n",
    "        if record_type == 'response' and record.http_headers.get_header('Content-Type').find('text/html') >= 0:\n",
    "            try:\n",
    "                content = str(\n",
    "                    record\\\n",
    "                    .content_stream()\\\n",
    "                    .read()\\\n",
    "                    .decode('utf-8')\n",
    "                )\n",
    "                bs = BeautifulSoup(content, features=\"lxml\")\n",
    "                generator = extract_generator(bs)\n",
    "                contact = extract_contact(bs)\n",
    "                lang, country = extract_country_lang(bs)\n",
    "                emails  = extract_all_emails(content)\n",
    "                is_secure = extract_ssl_or_not(uri)\n",
    "                yield ('text/html', record_type, uri, is_secure, lang, country, generator, emails, contact)\n",
    "            except Exception as e:\n",
    "                yield ('error', record_type, uri, None, None, None, None, None, None)\n",
    "            \n",
    "if __name__ == \"__main__\":\n",
    "    job = Job()\n",
    "    job.run()\n"
   ]
  },
  {
   "cell_type": "code",
   "execution_count": 45,
   "id": "f181c5d1-a986-4dd3-b880-fcb550e604a6",
   "metadata": {},
   "outputs": [],
   "source": [
    "from pyspark.sql import SparkSession\n",
    "sess = SparkSession.builder.getOrCreate()"
   ]
  },
  {
   "cell_type": "code",
   "execution_count": 50,
   "id": "ef7ccdbc-f5b7-440d-8c5f-8537b4b539ee",
   "metadata": {},
   "outputs": [],
   "source": [
    "df = sess.read.parquet('spark-warehouse/output7')"
   ]
  },
  {
   "cell_type": "code",
   "execution_count": 51,
   "id": "f88acd8b-4633-40e6-998d-1aefdd5846b8",
   "metadata": {},
   "outputs": [
    {
     "name": "stdout",
     "output_type": "stream",
     "text": [
      "+-----------+-----------+--------------------+---------+--------+-------+--------------------+--------------------+--------------------+\n",
      "|conent_type|record_type|                 uri|is_secure|language|country|           generator|              emails|             contact|\n",
      "+-----------+-----------+--------------------+---------+--------+-------+--------------------+--------------------+--------------------+\n",
      "|  text/html|   response|https://www.hindu...|    https|      en|   null|net.razorvine.pic...|                    |net.razorvine.pic...|\n",
      "|  text/html|   response|https://rotativo....|    https|      es|     MX|AMP for WP 1.0.77.36|                    |net.razorvine.pic...|\n",
      "|  text/html|   response|https://copainsda...|    https|      fr|   null|net.razorvine.pic...|                    |net.razorvine.pic...|\n",
      "|  text/html|   response|https://lajmi.net...|    https|      en|     US|     WordPress 5.2.1|                    |net.razorvine.pic...|\n",
      "|  text/html|   response|https://diariodon...|    https|      pt|     BR|net.razorvine.pic...|email@exemplo.com...|net.razorvine.pic...|\n",
      "|  text/html|   response|https://www.biome...|    https|      en|     US|net.razorvine.pic...|                    |https://www.biome...|\n",
      "|  text/html|   response|https://www.benzi...|    https|    null|   null|net.razorvine.pic...|ir@newage.com|u00...|https://www.benzi...|\n",
      "|  text/html|   response|https://www.pahom...|    https|      en|     US|     WordPress 5.8.3|mprutisto@pahomep...|https://audiences...|\n",
      "|  text/html|   response|https://indianexp...|    https|      en|   null|     WordPress 5.8.3|                    |        /contact-us/|\n",
      "|  text/html|   response|https://www.sfgat...|    https|      en|     US|net.razorvine.pic...|                    |net.razorvine.pic...|\n",
      "|  text/html|   response|https://www.liveh...|    https|      hi|   null|net.razorvine.pic...|age-1@3x1_1614073...|net.razorvine.pic...|\n",
      "|  text/html|   response|https://www.newsb...|    https|      en|   null|net.razorvine.pic...|info@commoncrawl.org|                    |\n",
      "|  text/html|   response|https://www.praja...|    https|    null|   null|           Prajavani|hot-news@3x.png|h...|http://printersmy...|\n",
      "|  text/html|   response|https://www.algem...|    https|      en|     US|net.razorvine.pic...|                    |https://www.algem...|\n",
      "|  text/html|   response|https://forum.fin...|    https|      uk|   null|net.razorvine.pic...|                    |net.razorvine.pic...|\n",
      "|  text/html|   response|https://www.daily...|    https|      en|   null|net.razorvine.pic...|                    |net.razorvine.pic...|\n",
      "|  text/html|   response|https://glavred.i...|    https|      ru|   null|net.razorvine.pic...|   glavred@1plus1.tv|https://glavred.i...|\n",
      "|  text/html|   response|https://dan.com/b...|    https|    null|   null|net.razorvine.pic...|                    |net.razorvine.pic...|\n",
      "|  text/html|   response|https://www.marke...|    https|      en|     US|net.razorvine.pic...|                    |net.razorvine.pic...|\n",
      "|  text/html|   response|https://copainsda...|    https|      fr|   null|net.razorvine.pic...|                    |net.razorvine.pic...|\n",
      "+-----------+-----------+--------------------+---------+--------+-------+--------------------+--------------------+--------------------+\n",
      "only showing top 20 rows\n",
      "\n"
     ]
    }
   ],
   "source": [
    "df.show()"
   ]
  },
  {
   "cell_type": "code",
   "execution_count": null,
   "id": "1723c254-9382-4534-a780-ef2cbcbbfe5e",
   "metadata": {},
   "outputs": [],
   "source": []
  }
 ],
 "metadata": {
  "kernelspec": {
   "display_name": "cc-pyspark",
   "language": "python",
   "name": "cc-pyspark"
  },
  "language_info": {
   "codemirror_mode": {
    "name": "ipython",
    "version": 3
   },
   "file_extension": ".py",
   "mimetype": "text/x-python",
   "name": "python",
   "nbconvert_exporter": "python",
   "pygments_lexer": "ipython3",
   "version": "3.10.8"
  }
 },
 "nbformat": 4,
 "nbformat_minor": 5
}
